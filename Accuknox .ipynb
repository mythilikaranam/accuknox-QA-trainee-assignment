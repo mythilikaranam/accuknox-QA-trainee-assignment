{
 "cells": [
  {
   "cell_type": "markdown",
   "id": "4273a9b0",
   "metadata": {},
   "source": [
    "## `Problem Statement:`"
   ]
  },
  {
   "cell_type": "markdown",
   "id": "fb6375cb",
   "metadata": {},
   "source": [
    "**1. System Health Monitoring Script:**\n",
    "Develop a script that monitors the health of a Linux system. It should check\n",
    "CPU usage, memory usage, disk space, and running processes. If any of\n",
    "these metrics exceed predefined thresholds (e.g., CPU usage > 80%), the\n",
    "script should send an alert to the console or a log file."
   ]
  },
  {
   "cell_type": "code",
   "execution_count": 1,
   "id": "5e1c2bc5",
   "metadata": {},
   "outputs": [
    {
     "name": "stdout",
     "output_type": "stream",
     "text": [
      "Requirement already satisfied: psutil in c:\\users\\mythi\\anaconda3\\lib\\site-packages (5.9.0)\n",
      "Note: you may need to restart the kernel to use updated packages.\n"
     ]
    }
   ],
   "source": [
    "pip install psutil"
   ]
  },
  {
   "cell_type": "code",
   "execution_count": 1,
   "id": "c0edcb1e",
   "metadata": {},
   "outputs": [
    {
     "name": "stdout",
     "output_type": "stream",
     "text": [
      "CPU usage is normal: 10.1%\n",
      "ALERT: Memory usage is high: 82.6%\n",
      "Disk usage is normal: 40.5%\n",
      "Total number of running processes: 239\n"
     ]
    }
   ],
   "source": [
    "import psutil  \n",
    "import shutil\n",
    "import sys\n",
    "\n",
    "# Define thresholds\n",
    "CPU_THRESHOLD = 80  # in percentage\n",
    "MEMORY_THRESHOLD = 80  # in percentage\n",
    "DISK_THRESHOLD = 90  # in percentage\n",
    "\n",
    "def check_cpu_usage():\n",
    "    cpu_usage = psutil.cpu_percent(interval=1)\n",
    "    if cpu_usage > CPU_THRESHOLD:\n",
    "        print(f\"ALERT: CPU usage is high: {cpu_usage}%\")\n",
    "    else:\n",
    "        print(f\"CPU usage is normal: {cpu_usage}%\")\n",
    "\n",
    "def check_memory_usage():\n",
    "    memory = psutil.virtual_memory()\n",
    "    if memory.percent > MEMORY_THRESHOLD:\n",
    "        print(f\"ALERT: Memory usage is high: {memory.percent}%\")\n",
    "    else:\n",
    "        print(f\"Memory usage is normal: {memory.percent}%\")\n",
    "\n",
    "def check_disk_usage():\n",
    "    disk = psutil.disk_usage('/')\n",
    "    if disk.percent > DISK_THRESHOLD:\n",
    "        print(f\"ALERT: Disk usage is high: {disk.percent}%\")\n",
    "    else:\n",
    "        print(f\"Disk usage is normal: {disk.percent}%\")\n",
    "\n",
    "def check_running_processes():\n",
    "    process_count = len(psutil.pids())\n",
    "    print(f\"Total number of running processes: {process_count}\")\n",
    "\n",
    "# Run checks\n",
    "check_cpu_usage()\n",
    "check_memory_usage()\n",
    "check_disk_usage()\n",
    "check_running_processes()\n"
   ]
  },
  {
   "cell_type": "markdown",
   "id": "eaa4c297",
   "metadata": {},
   "source": [
    "**Explanation:**\n",
    "\n",
    "* CPU Usage: Monitors CPU load using psutil.cpu_percent().\n",
    "* Memory Usage: Uses psutil.virtual_memory() to check memory usage.\n",
    "* Disk Space: Checks disk usage using psutil.disk_usage().\n",
    "* Processes: Counts the number of processes using psutil.pids().\n"
   ]
  },
  {
   "cell_type": "markdown",
   "id": "afb30c53",
   "metadata": {},
   "source": [
    "**Application Health Checker:**\n",
    "\n",
    "Please write a script that can check the uptime of an application and determine if it is functioning correctly or not. The script must accurately assess the application's status by checking HTTP status codes. It should be able to detect if the application is 'up', meaning it is functioning correctly, or 'down', indicating that it is unavailable or not responding."
   ]
  },
  {
   "cell_type": "markdown",
   "id": "d1262f24",
   "metadata": {},
   "source": [
    "\n",
    "This script checks the uptime of an application by testing its HTTP status codes. If the status code is 200, the application \n",
    "is considered \"up\"; otherwise, it is \"down\".\n"
   ]
  },
  {
   "cell_type": "code",
   "execution_count": 8,
   "id": "9feea0d7",
   "metadata": {},
   "outputs": [
    {
     "name": "stdout",
     "output_type": "stream",
     "text": [
      "Requirement already satisfied: requests in c:\\users\\mythi\\anaconda3\\lib\\site-packages (2.31.0)\n",
      "Requirement already satisfied: charset-normalizer<4,>=2 in c:\\users\\mythi\\anaconda3\\lib\\site-packages (from requests) (2.0.4)\n",
      "Requirement already satisfied: idna<4,>=2.5 in c:\\users\\mythi\\anaconda3\\lib\\site-packages (from requests) (3.4)\n",
      "Requirement already satisfied: urllib3<3,>=1.21.1 in c:\\users\\mythi\\anaconda3\\lib\\site-packages (from requests) (1.26.16)\n",
      "Requirement already satisfied: certifi>=2017.4.17 in c:\\users\\mythi\\anaconda3\\lib\\site-packages (from requests) (2023.11.17)\n",
      "Note: you may need to restart the kernel to use updated packages.\n"
     ]
    }
   ],
   "source": [
    "pip install requests"
   ]
  },
  {
   "cell_type": "code",
   "execution_count": 8,
   "id": "b09d3582",
   "metadata": {},
   "outputs": [
    {
     "name": "stdout",
     "output_type": "stream",
     "text": [
      "Application is UP. Status Code: 200\n"
     ]
    }
   ],
   "source": [
    "import requests  \n",
    "# Function to check the application status\n",
    "def check_application_status(url):\n",
    "    try:\n",
    "        response = requests.get(url)\n",
    "        if response.status_code == 200:\n",
    "            print(f\"Application is UP. Status Code: {response.status_code}\")\n",
    "        else:\n",
    "            print(f\"Application is DOWN. Status Code: {response.status_code}\")\n",
    "    except requests.exceptions.RequestException as e:\n",
    "        print(f\"Error checking the application: {e}\")\n",
    "\n",
    "# URL of the application to check\n",
    "url = \"https://en.wikipedia.org/wiki/Data_science\"  \n",
    "check_application_status(url)\n"
   ]
  },
  {
   "cell_type": "markdown",
   "id": "3121b03a",
   "metadata": {},
   "source": [
    "**Explanation:**\n",
    "* HTTP Request: The script sends a GET request to the application URL using the requests.get() method.\n",
    "* Status Check: If the HTTP status code is 200, the application is considered to be \"UP\". Otherwise, it’s \"DOWN\".\n",
    "* Error Handling: If the application is unreachable or any error occurs, the script will print the error message.\n"
   ]
  },
  {
   "cell_type": "markdown",
   "id": "c1f202f9",
   "metadata": {},
   "source": [
    "**Summary:**\n",
    "* *`System Health Monitoring Script:`* This Python script monitors system health metrics like CPU, memory, disk usage, and \n",
    "    running processes. Alerts are triggered if any metric exceeds the set threshold.\n",
    "* *`Application Health Checker:`* This script checks if a web application is functional by verifying its HTTP status code, \n",
    "    determining whether the application is \"UP\" or \"DOWN\".\n"
   ]
  },
  {
   "cell_type": "code",
   "execution_count": null,
   "id": "8d13b13d",
   "metadata": {},
   "outputs": [],
   "source": []
  }
 ],
 "metadata": {
  "kernelspec": {
   "display_name": "Python 3 (ipykernel)",
   "language": "python",
   "name": "python3"
  },
  "language_info": {
   "codemirror_mode": {
    "name": "ipython",
    "version": 3
   },
   "file_extension": ".py",
   "mimetype": "text/x-python",
   "name": "python",
   "nbconvert_exporter": "python",
   "pygments_lexer": "ipython3",
   "version": "3.11.5"
  }
 },
 "nbformat": 4,
 "nbformat_minor": 5
}
